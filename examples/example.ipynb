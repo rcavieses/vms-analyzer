{
 "cells": [
  {
   "cell_type": "markdown",
   "metadata": {},
   "source": [
    "# VMS Data Analysis Example\n",
    "This notebook demonstrates how to use the `VMSAnalyzer` class to unify, filter, and analyze VMS data from a folder called `GC`."
   ]
  },
  {
   "cell_type": "code",
   "metadata": {},
   "source": [
    "from pathlib import Path\n",
    "from vms_analyzer.analyzer import VMSAnalyzer\n",
    "import geopandas as gpd\n",
    "import pandas as pd\n"
   ],
   "execution_count": null,
   "outputs": []
  },
  {
   "cell_type": "markdown",
   "metadata": {},
   "source": [
    "## Initialize the VMSAnalyzer\n",
    "Set the base path to the folder containing the VMS data files."
   ]
  },
  {
   "cell_type": "code",
   "metadata": {},
   "source": [
    "# Initialize VMSAnalyzer\n",
    "base_path = Path('path/to/GC')\n",
    "analyzer = VMSAnalyzer(base_path=base_path)"
   ],
   "execution_count": null,
   "outputs": []
  },
  {
   "cell_type": "markdown",
   "metadata": {},
   "source": [
    "## Unify VMS Files\n",
    "Unify multiple VMS files into one, standardizing columns."
   ]
  },
  {
   "cell_type": "code",
   "metadata": {},
   "source": [
    "# Unify VMS files\n",
    "unified_file = analyzer.unify_files()\n",
    "print(f'Unified file created at: {unified_file}')"
   ],
   "execution_count": null,
   "outputs": []
  },
  {
   "cell_type": "markdown",
   "metadata": {},
   "source": [
    "## Filter VMS Data by Polygon\n",
    "Filter the unified VMS data by a defined polygon."
   ]
  },
  {
   "cell_type": "code",
   "metadata": {},
   "source": [
    "# Filter VMS data by polygon\n",
    "filtered_file = analyzer.filter_by_polygon()\n",
    "print(f'Filtered file created at: {filtered_file}')"
   ],
   "execution_count": null,
   "outputs": []
  },
  {
   "cell_type": "markdown",
   "metadata": {},
   "source": [
    "## Analyze Vessel Activity\n",
    "Analyze vessel activity patterns using H3 hexagons."
   ]
  },
  {
   "cell_type": "code",
   "metadata": {},
   "source": [
    "# Analyze vessel activity\n",
    "gdf, stats = analyzer.analyze_activity()\n",
    "print('Activity analysis statistics:')\n",
    "for key, value in stats.items():\n",
    "    print(f'{key}: {value}')"
   ],
   "execution_count": null,
   "outputs": []
  },
  {
   "cell_type": "markdown",
   "metadata": {},
   "source": [
    "## Generate Report\n",
    "Generate an HTML report with the analysis results."
   ]
  },
  {
   "cell_type": "code",
   "metadata": {},
   "source": [
    "# Generate report\n",
    "report_file = analyzer.generate_report(gdf, stats)\n",
    "print(f'Report generated at: {report_file}')"
   ],
   "execution_count": null,
   "outputs": []
  }
 ],
 "metadata": {
  "kernelspec": {
   "display_name": "Python 3",
   "language": "python",
   "name": "python3"
  },
  "language_info": {
   "codemirror_mode": {
    "name": "ipython",
    "version": 3
   },
   "file_extension": ".py",
   "mimetype": "text/x-python",
   "name": "python",
   "nbconvert_exporter": "python",
   "pygments_lexer": "ipython3",
   "version": "3.8.5"
  }
 },
 "nbformat": 4,
 "nbformat_minor": 4
}